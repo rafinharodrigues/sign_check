{
 "cells": [
  {
   "cell_type": "code",
   "execution_count": 1,
   "metadata": {},
   "outputs": [
    {
     "name": "stderr",
     "output_type": "stream",
     "text": [
      "c:\\Users\\rafin\\OneDrive\\Documentos\\GREAT\\seplag\\sign_check\\venv\\Lib\\site-packages\\tqdm\\auto.py:21: TqdmWarning: IProgress not found. Please update jupyter and ipywidgets. See https://ipywidgets.readthedocs.io/en/stable/user_install.html\n",
      "  from .autonotebook import tqdm as notebook_tqdm\n"
     ]
    },
    {
     "name": "stdout",
     "output_type": "stream",
     "text": [
      "Somente arquivos .pdf, .xml, .p7s e .json serão aceitos no campo de documento. ❌\n"
     ]
    }
   ],
   "source": [
    "from selenium import webdriver\n",
    "from selenium.webdriver.common.by import By\n",
    "from selenium.webdriver.support.ui import WebDriverWait\n",
    "from selenium.webdriver.support import expected_conditions as EC\n",
    "\n",
    "from docling.document_converter import DocumentConverter\n",
    "\n",
    "\n",
    "def validar_assinatura(caminho_arquivo):\n",
    "\n",
    "    options = webdriver.ChromeOptions()\n",
    "    options.add_argument('--disable-gpu')\n",
    "    options.add_argument('--start-maximized') \n",
    "    options.add_argument('--headless') \n",
    "    \n",
    "    driver = webdriver.Chrome(options=options)\n",
    "    \n",
    "    try:\n",
    "        driver.get('https://validar.iti.gov.br')\n",
    "\n",
    "        try:\n",
    "            WebDriverWait(driver, 10).until(\n",
    "                EC.element_to_be_clickable((By.XPATH, '//button[contains(text(), \"Aceitar\")]'))\n",
    "            ).click()\n",
    "        except:\n",
    "            print(\"Nenhum banner de cookies detectado. ❌\")\n",
    "        \n",
    "        WebDriverWait(driver, 15).until(\n",
    "            EC.presence_of_element_located((By.CSS_SELECTOR, 'input[type=\"file\"]'))\n",
    "        ).send_keys(caminho_arquivo)\n",
    "\n",
    "        WebDriverWait(driver, 10).until(\n",
    "            EC.element_to_be_clickable((By.ID, 'acceptTerms'))\n",
    "        ).click()\n",
    "        \n",
    "        WebDriverWait(driver, 10).until(\n",
    "            EC.element_to_be_clickable((By.XPATH, '//button[contains(., \"Validar\")]'))\n",
    "        ).click()\n",
    "\n",
    "        try:\n",
    "            WebDriverWait(driver, 10).until(\n",
    "                EC.element_to_be_clickable((By.ID, 'swal2-html-container'))\n",
    "            )\n",
    "\n",
    "            exception = driver.find_element(By.ID, 'swal2-html-container').get_property(\"innerText\")\n",
    "\n",
    "            return exception + ' ❌'\n",
    "        except:\n",
    "            WebDriverWait(driver, 30).until(\n",
    "                EC.visibility_of_element_located((By.ID, 'assinaturas'))\n",
    "            )\n",
    "            \n",
    "            dados_assinatura = {\n",
    "                \"Assinado por\": driver.find_element(By.CSS_SELECTOR, 'strong.assinadoPor + span.branco').text,\n",
    "                \"CPF\": driver.find_element(By.CSS_SELECTOR, 'strong.identificador + span.espaco').text,\n",
    "                \"Nº de série\": driver.find_element(By.CSS_SELECTOR, 'strong.numserie + span.espaco').text,\n",
    "                \"Data da assinatura\": driver.find_element(By.CSS_SELECTOR, 'strong.dataDaValidacao + span.espaco').text,\n",
    "                \"Status\": driver.find_element(By.CSS_SELECTOR, 'strong.branco.frase').text\n",
    "            }\n",
    "\n",
    "            # print(\"Resultado da validação:\")\n",
    "            # for chave, valor in dados_assinatura.items():\n",
    "            #     print(f\"{chave}: {valor}\")\n",
    "\n",
    "            return comparar_assinatura(caminho_arquivo, dados_assinatura)\n",
    "\n",
    "    finally:\n",
    "        driver.quit()\n",
    "\n",
    "\n",
    "def comparar_assinatura(path, data):\n",
    "    source = path\n",
    "    dados_assinatura = data\n",
    "    converter = DocumentConverter()\n",
    "    result = converter.convert(source)\n",
    "    document = result.document.export_to_text()\n",
    "\n",
    "    try:\n",
    "        if dados_assinatura['Assinado por'] in document.upper():\n",
    "            return 'Assinatura em conformidade ✅'\n",
    "        else:\n",
    "            return 'Assinatura não bate ❌'\n",
    "    except KeyError:\n",
    "        return 'Chave \"Assinado por:\" inexistente'\n",
    "\n",
    "if __name__ == \"__main__\":\n",
    "    \n",
    "    sign_data = validar_assinatura(r'C:\\Users\\rafin\\OneDrive\\Documentos\\GREAT\\seplag\\sign_check\\docs\\test_03.jpeg')\n",
    "    \n",
    "    print(sign_data)\n"
   ]
  },
  {
   "cell_type": "code",
   "execution_count": null,
   "metadata": {},
   "outputs": [],
   "source": []
  },
  {
   "cell_type": "code",
   "execution_count": null,
   "metadata": {},
   "outputs": [],
   "source": []
  }
 ],
 "metadata": {
  "kernelspec": {
   "display_name": "venv",
   "language": "python",
   "name": "python3"
  },
  "language_info": {
   "codemirror_mode": {
    "name": "ipython",
    "version": 3
   },
   "file_extension": ".py",
   "mimetype": "text/x-python",
   "name": "python",
   "nbconvert_exporter": "python",
   "pygments_lexer": "ipython3",
   "version": "3.11.7"
  }
 },
 "nbformat": 4,
 "nbformat_minor": 2
}
